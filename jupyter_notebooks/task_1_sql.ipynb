{
 "cells": [
  {
   "cell_type": "markdown",
   "metadata": {},
   "source": [
    "## Importing needed modules and applying configs"
   ]
  },
  {
   "cell_type": "code",
   "execution_count": 1,
   "metadata": {},
   "outputs": [],
   "source": [
    "import sys\n",
    "import os\n",
    "sys.path.insert(0, 'C:/Users/Lenovo/Desktop/acronis test/task/power_bi_reporting_solution/src')\n",
    "import sql_profiler\n",
    "import warnings\n",
    "warnings.filterwarnings('ignore')"
   ]
  },
  {
   "cell_type": "markdown",
   "metadata": {},
   "source": [
    "## Initiating sql_profiler custom module`s ssms_profiler class with needed params"
   ]
  },
  {
   "cell_type": "code",
   "execution_count": 2,
   "metadata": {},
   "outputs": [],
   "source": [
    "analysis = sql_profiler.ssms_profiler('SQL_server',os.environ['MYSQLSERVER_PASS'])"
   ]
  },
  {
   "cell_type": "markdown",
   "metadata": {},
   "source": [
    "## Applying data profiling methods on defined database`s all tables and saving results as excel file into working directory"
   ]
  },
  {
   "cell_type": "code",
   "execution_count": 3,
   "metadata": {},
   "outputs": [],
   "source": [
    "# analysis.multiple_dataset_apply_profiling()"
   ]
  },
  {
   "cell_type": "markdown",
   "metadata": {},
   "source": [
    "## Using apply_sql_query method from custom module to bring SQL query results"
   ]
  },
  {
   "cell_type": "markdown",
   "metadata": {},
   "source": [
    "### Query-1 : Which teams had the shortest and the longest average duration of chats?"
   ]
  },
  {
   "cell_type": "code",
   "execution_count": 43,
   "metadata": {},
   "outputs": [
    {
     "data": {
      "text/html": [
       "<div>\n",
       "<style scoped>\n",
       "    .dataframe tbody tr th:only-of-type {\n",
       "        vertical-align: middle;\n",
       "    }\n",
       "\n",
       "    .dataframe tbody tr th {\n",
       "        vertical-align: top;\n",
       "    }\n",
       "\n",
       "    .dataframe thead th {\n",
       "        text-align: right;\n",
       "    }\n",
       "</style>\n",
       "<table border=\"1\" class=\"dataframe\">\n",
       "  <thead>\n",
       "    <tr style=\"text-align: right;\">\n",
       "      <th></th>\n",
       "      <th>owner_team</th>\n",
       "    </tr>\n",
       "  </thead>\n",
       "  <tbody>\n",
       "    <tr>\n",
       "      <th>0</th>\n",
       "      <td>O</td>\n",
       "    </tr>\n",
       "    <tr>\n",
       "      <th>1</th>\n",
       "      <td>A</td>\n",
       "    </tr>\n",
       "  </tbody>\n",
       "</table>\n",
       "</div>"
      ],
      "text/plain": [
       "  owner_team\n",
       "0          O\n",
       "1          A"
      ]
     },
     "execution_count": 43,
     "metadata": {},
     "output_type": "execute_result"
    }
   ],
   "source": [
    "analysis.apply_sql_query('WITH CTE_duration (case_id, createddate, enddate, duration) \\\n",
    "                         AS \\\n",
    "                         ( \\\n",
    "                         SELECT case_id, \\\n",
    "                         createddate, enddate, \\\n",
    "                         DATEDIFF(second, createddate, enddate) AS duration \\\n",
    "                         FROM dbo.test_LiveChatTranscript \\\n",
    "                         ), \\\n",
    "                         CTE_chat_group_team_duration (owner_team, average_chat_duration) \\\n",
    "                         AS \\\n",
    "                         ( \\\n",
    "                         SELECT owner_team , AVG(duration) as average_chat_duration  \\\n",
    "                         FROM CTE_duration \\\n",
    "                         JOIN dbo.test_cases cases \\\n",
    "                         ON CTE_duration.case_id = cases.caseid \\\n",
    "                         GROUP BY owner_team \\\n",
    "                         ), \\\n",
    "                         CTE_chat_ranks (owner_team, average_chat_duration, rank_chat_dur) \\\n",
    "                         AS \\\n",
    "                         ( \\\n",
    "                         SELECT owner_team, average_chat_duration, RANK() OVER (ORDER BY average_chat_duration) as rank_chat_dur \\\n",
    "                         FROM CTE_chat_group_team_duration \\\n",
    "                         ) \\\n",
    "                         SELECT owner_team FROM CTE_chat_ranks WHERE rank_chat_dur = 1 OR rank_chat_dur IN (SELECT  MAX(rank_chat_dur) FROM CTE_chat_ranks)'\n",
    "                         )"
   ]
  },
  {
   "cell_type": "markdown",
   "metadata": {},
   "source": [
    "### Query-2 : Which team had the lowest average response time between first incoming email and the next call. What was the average for this team?"
   ]
  },
  {
   "cell_type": "code",
   "execution_count": 128,
   "metadata": {},
   "outputs": [
    {
     "data": {
      "text/html": [
       "<div>\n",
       "<style scoped>\n",
       "    .dataframe tbody tr th:only-of-type {\n",
       "        vertical-align: middle;\n",
       "    }\n",
       "\n",
       "    .dataframe tbody tr th {\n",
       "        vertical-align: top;\n",
       "    }\n",
       "\n",
       "    .dataframe thead th {\n",
       "        text-align: right;\n",
       "    }\n",
       "</style>\n",
       "<table border=\"1\" class=\"dataframe\">\n",
       "  <thead>\n",
       "    <tr style=\"text-align: right;\">\n",
       "      <th></th>\n",
       "      <th>owner_team</th>\n",
       "      <th>response_time</th>\n",
       "    </tr>\n",
       "  </thead>\n",
       "  <tbody>\n",
       "    <tr>\n",
       "      <th>0</th>\n",
       "      <td>J</td>\n",
       "      <td>511299</td>\n",
       "    </tr>\n",
       "  </tbody>\n",
       "</table>\n",
       "</div>"
      ],
      "text/plain": [
       "  owner_team  response_time\n",
       "0          J         511299"
      ]
     },
     "execution_count": 128,
     "metadata": {},
     "output_type": "execute_result"
    }
   ],
   "source": [
    "analysis.apply_sql_query('WITH CTE_incoming_mails (caseid, sent, incoming,rank_email_time_by_case) \\\n",
    "                         AS \\\n",
    "                         ( \\\n",
    "                         SELECT caseid, \\\n",
    "                         sent, incoming , RANK() OVER (PARTITION BY caseid ORDER BY sent ASC) as rank_email_time_by_case \\\n",
    "                         FROM dbo.test_Emails WHERE incoming = 1 \\\n",
    "                         ), \\\n",
    "                         CTE_first_mails_filtered (caseid, sent) \\\n",
    "                         AS \\\n",
    "                         ( \\\n",
    "                         SELECT caseid, sent FROM CTE_incoming_mails \\\n",
    "                         WHERE rank_email_time_by_case = 1 \\\n",
    "                         ), \\\n",
    "                         CTE_mail_call_cases_joined (caseid, email_sent_time, call_start_time ,owner_team) \\\n",
    "                         AS \\\n",
    "                         ( \\\n",
    "                         SELECT e.caseid, e.sent AS email_sent_time, c.started_time AS call_start_time, \\\n",
    "                         ca.owner_team AS owner_team FROM CTE_first_mails_filtered e \\\n",
    "                         JOIN dbo.test_cases ca ON ca.caseid = e.caseid \\\n",
    "                         JOIN dbo.test_calls c ON c.caseid = e.caseid \\\n",
    "                         ), \\\n",
    "                         CTE_ranked_calls (caseid, email_sent_time, call_start_time , rank_of_call, owner_team) \\\n",
    "                         AS \\\n",
    "                         ( \\\n",
    "                         SELECT caseid, email_sent_time, call_start_time, RANK() OVER (PARTITION BY email_sent_time ORDER BY call_start_time ASC) as rank_call_start, \\\n",
    "                         owner_team \\\n",
    "                         FROM CTE_mail_call_cases_joined \\\n",
    "                         ), \\\n",
    "                         CTE_first_calls_filtered (email_sent_time, call_start_time , rank_of_call, owner_team) \\\n",
    "                         AS \\\n",
    "                         ( \\\n",
    "                         SELECT email_sent_time, call_start_time , rank_of_call, owner_team FROM CTE_ranked_calls \\\n",
    "                         WHERE rank_of_call = 1 \\\n",
    "                         ), \\\n",
    "                         CTE_aggregated_response (owner_team, response_time) \\\n",
    "                         AS \\\n",
    "                         ( \\\n",
    "                         SELECT owner_team, \\\n",
    "                         AVG(DATEDIFF(second, email_sent_time, call_start_time)) AS response_time  \\\n",
    "                         FROM  CTE_first_calls_filtered \\\n",
    "                         GROUP BY owner_team \\\n",
    "                         ) \\\n",
    "                         SELECT TOP(1) owner_team, response_time FROM CTE_aggregated_response \\\n",
    "                         ORDER BY response_time ASC ')"
   ]
  }
 ],
 "metadata": {
  "kernelspec": {
   "display_name": "Python 3",
   "language": "python",
   "name": "python3"
  },
  "language_info": {
   "codemirror_mode": {
    "name": "ipython",
    "version": 3
   },
   "file_extension": ".py",
   "mimetype": "text/x-python",
   "name": "python",
   "nbconvert_exporter": "python",
   "pygments_lexer": "ipython3",
   "version": "3.11.1"
  }
 },
 "nbformat": 4,
 "nbformat_minor": 2
}
